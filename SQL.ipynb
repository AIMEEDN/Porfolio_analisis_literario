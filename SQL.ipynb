{
 "cells": [
  {
   "cell_type": "markdown",
   "id": "3f711500-8fde-40fe-8245-15c3b3dab5c8",
   "metadata": {},
   "source": [
    "# Proyecto Análisis de datos literarios: Insights para el mercado de aplicaciones para lectores"
   ]
  },
  {
   "cell_type": "markdown",
   "id": "fcbc117d-00e6-4af1-87d3-ca207b5f9f9b",
   "metadata": {},
   "source": [
    "# Tabla de contenido\n",
    "1. [Introducción al Proyecto](#Introducción-al-Proyecto)\n",
    "2. [Objetivos específicos](#Objetivos-específicos)\n",
    "3. [Etapas de análisis del proyecto](#Etapas-de-análisis-del-proyecto)\n",
    "4. [Exploración de las tablas](#Exploración-de-las-tablas)\n",
    "5. [Consulta y análisis de datos](#Consulta-y-análisis-de-datos)\n",
    "6. [Conclusiones y recomendaciones](#Conclusiones-y-recomendaciones)"
   ]
  },
  {
   "cell_type": "markdown",
   "id": "3c51d5e1-477e-4bc0-ba85-9c482c9e85db",
   "metadata": {},
   "source": [
    "# Introducción al Proyecto"
   ]
  },
  {
   "cell_type": "markdown",
   "id": "edcf73cd-6174-48bf-a534-b54f7fb882db",
   "metadata": {},
   "source": [
    "El mercado de servicios y aplicaciones para amantes de los libros ha experimentado un crecimiento significativo, especialmente a raíz de los cambios en la rutina diaria derivados de la pandemia del coronavirus. Las personas, al pasar más tiempo en casa, han incrementado su consumo de libros, lo que ha impulsado a startups a desarrollar soluciones innovadoras que mejoren la experiencia del usuario y la oferta de contenido literario.\n",
    "\n",
    "Este proyecto tiene como objetivo analizar una base de datos que contiene información detallada sobre libros, autores, editoriales, calificaciones y reseñas proporcionadas por los usuarios. El análisis de estos datos permitirá obtener insights valiosos que podrían servir para el desarrollo de una propuesta de valor competitiva en el mercado de aplicaciones para lectores.\n",
    "\n"
   ]
  },
  {
   "cell_type": "markdown",
   "id": "403a6cf5-f891-46e4-ba50-43fcb8e4f4b7",
   "metadata": {},
   "source": [
    "# Objetivos específicos"
   ]
  },
  {
   "cell_type": "markdown",
   "id": "ba94dc0d-ff6f-4375-ad8b-25ca12d85706",
   "metadata": {},
   "source": [
    "1.Determinar la cantidad de libros publicados después del 1 de enero de 2000 para entender la producción reciente de contenido.\n",
    "\n",
    "2.Calcular el número de reseñas y la calificación promedio por libro, lo cual permitirá evaluar el nivel de interacción y popularidad de los libros.\n",
    "\n",
    "3.Identificar la editorial con la mayor producción de libros con más de 50 páginas, excluyendo publicaciones menores como folletos.\n",
    "\n",
    "4.Determinar el autor con la calificación promedio más alta entre libros con al menos 50 calificaciones, para destacar a los autores más valorados por los usuarios.\n",
    "\n",
    "5.Calcular el número promedio de reseñas de texto generadas por usuarios activos que calificaron más de 50 libros, lo que permitirá identificar patrones de comportamiento de los usuarios más comprometidos."
   ]
  },
  {
   "cell_type": "markdown",
   "id": "c17fec9e-45f4-4ef1-88fd-ad0b3e27e8b5",
   "metadata": {},
   "source": [
    "# Etapas de análisis del proyecto"
   ]
  },
  {
   "cell_type": "markdown",
   "id": "4f405eda-cb73-401c-aad9-e3849e1f1c52",
   "metadata": {},
   "source": [
    "**Exploración de las tablas:**\n",
    "\n",
    "Revisar las estructuras y los primeros registros de cada tabla para familiarizarse con los datos (books, authors, publishers, ratings, reviews).\n",
    "Entender las relaciones entre las tablas y cómo se conectan a través de sus claves primarias y foráneas.\n",
    "\n",
    "**Consulta y análisis de datos:**\n",
    "\n",
    "Etapa 1: Determinar la cantidad de libros publicados después del 1 de enero de 2000 mediante una consulta SQL.\n",
    "Etapa 2: Calcular el número de reseñas y la calificación promedio por libro uniendo las tablas ratings y reviews.\n",
    "Etapa 3: Identificar la editorial con la mayor cantidad de libros con más de 50 páginas utilizando las tablas books y publishers.\n",
    "Etapa 4: Determinar el autor con la calificación promedio más alta considerando solo libros con al menos 50 calificaciones, a través de las tablas books, authors y ratings.\n",
    "Etapa 5: Calcular el promedio de reseñas de texto generadas por usuarios que calificaron más de 50 libros, cruzando las tablas ratings y reviews.\n",
    "\n",
    "**Conclusiones y recomendaciones:**\n",
    "\n",
    "Analizar los resultados obtenidos en cada etapa, extrayendo conclusiones claras y relevantes.\n",
    "Identificar tendencias en la producción de libros, el comportamiento de los usuarios y las editoriales o autores más destacados. Proporcionar recomendaciones basadas en los resultados del análisis que puedan contribuir a mejorar el desarrollo de un producto o servicio dirigido a los amantes de los libros."
   ]
  },
  {
   "cell_type": "markdown",
   "id": "05c29cc4-0dea-4c7e-912a-4bb74a1aa9db",
   "metadata": {},
   "source": [
    "**-Inicialización-Conexión a la base de datos**"
   ]
  },
  {
   "cell_type": "code",
   "execution_count": 1,
   "id": "4848a4ed-f67b-497c-9d4f-d6f9fecb18fc",
   "metadata": {},
   "outputs": [
    {
     "name": "stdout",
     "output_type": "stream",
     "text": [
      "Requirement already satisfied: psycopg2-binary in c:\\users\\aimee dguez nieto\\anaconda3\\lib\\site-packages (2.9.10)\n"
     ]
    }
   ],
   "source": [
    "!pip install psycopg2-binary"
   ]
  },
  {
   "cell_type": "code",
   "execution_count": 2,
   "id": "56d85747-7f75-497a-8468-27a99484971f",
   "metadata": {},
   "outputs": [],
   "source": [
    "import pandas as pd\n",
    "import sqlite3\n",
    "from sqlalchemy import create_engine\n",
    "import psycopg2\n",
    "from psycopg2 import sql"
   ]
  },
  {
   "cell_type": "code",
   "execution_count": 3,
   "id": "236cf200-4680-4fe8-aa50-ecc26034952b",
   "metadata": {},
   "outputs": [],
   "source": [
    "db_config = {'user': 'practicum_student',         # nombre de usuario\n",
    "             'pwd': 's65BlTKV3faNIGhmvJVzOqhs', # contraseña\n",
    "             'host': 'rc1b-wcoijxj3yxfsf3fs.mdb.yandexcloud.net',\n",
    "             'port': 6432,              # puerto de conexión\n",
    "             'db': 'data-analyst-final-project-db'}          # nombre de la base de datos\n",
    "\n",
    "connection_string = 'postgresql://{}:{}@{}:{}/{}'.format(db_config['user'],\n",
    "                                                                     db_config['pwd'],\n",
    "                                                                       db_config['host'],\n",
    "                                                                       db_config['port'],\n",
    "                                                                       db_config['db'])\n",
    "\n",
    "engine = create_engine(connection_string, connect_args={'sslmode':'require'})"
   ]
  },
  {
   "cell_type": "markdown",
   "id": "c4d5a2c4-82a2-4dc6-8165-467bd88d9499",
   "metadata": {},
   "source": [
    "# Exploración de las tablas"
   ]
  },
  {
   "cell_type": "code",
   "execution_count": 4,
   "id": "978c3129-c73a-424d-bf3c-1381fd04d57f",
   "metadata": {},
   "outputs": [
    {
     "name": "stdout",
     "output_type": "stream",
     "text": [
      "Tablas disponibles en la base de datos:\n",
      "           table_name\n",
      "0  advertisment_costs\n",
      "1             authors\n",
      "2               books\n",
      "3           check_avg\n",
      "4              orders\n",
      "5          publishers\n",
      "6             ratings\n",
      "7             reviews\n",
      "8              visits\n"
     ]
    }
   ],
   "source": [
    "query = \"SELECT table_name FROM information_schema.tables WHERE table_schema = 'public';\"\n",
    "tables = pd.read_sql(query, engine)\n",
    "print(\"Tablas disponibles en la base de datos:\")\n",
    "print(tables)"
   ]
  },
  {
   "cell_type": "markdown",
   "id": "3a2c0c09-5e5c-4385-9619-67f4b28575c3",
   "metadata": {},
   "source": [
    "**- Tabla books**"
   ]
  },
  {
   "cell_type": "code",
   "execution_count": 5,
   "id": "54a56e92-7feb-4ca8-a14e-72d0628195fc",
   "metadata": {},
   "outputs": [
    {
     "name": "stdout",
     "output_type": "stream",
     "text": [
      "   book_id  author_id                                              title  \\\n",
      "0        1        546                                       'Salem's Lot   \n",
      "1        2        465                 1 000 Places to See Before You Die   \n",
      "2        3        407  13 Little Blue Envelopes (Little Blue Envelope...   \n",
      "3        4         82  1491: New Revelations of the Americas Before C...   \n",
      "4        5        125                                               1776   \n",
      "\n",
      "   num_pages publication_date  publisher_id  \n",
      "0        594       2005-11-01            93  \n",
      "1        992       2003-05-22           336  \n",
      "2        322       2010-12-21           135  \n",
      "3        541       2006-10-10           309  \n",
      "4        386       2006-07-04           268  \n"
     ]
    }
   ],
   "source": [
    "query = \"SELECT * FROM books LIMIT 5;\"\n",
    "books_df = pd.read_sql(query, engine)\n",
    "print(books_df)"
   ]
  },
  {
   "cell_type": "markdown",
   "id": "161790b8-a49b-4d56-9a1e-6d2be410dd26",
   "metadata": {},
   "source": [
    "**-Tabla authors**"
   ]
  },
  {
   "cell_type": "code",
   "execution_count": 6,
   "id": "7e2c1cdc-142e-470e-8d35-fde0397262e4",
   "metadata": {},
   "outputs": [
    {
     "name": "stdout",
     "output_type": "stream",
     "text": [
      "   author_id                          author\n",
      "0          1                      A.S. Byatt\n",
      "1          2  Aesop/Laura Harris/Laura Gibbs\n",
      "2          3                 Agatha Christie\n",
      "3          4                   Alan Brennert\n",
      "4          5        Alan Moore/David   Lloyd\n"
     ]
    }
   ],
   "source": [
    "query = \"SELECT * FROM authors LIMIT 5;\"\n",
    "authors_df = pd.read_sql(query, engine)\n",
    "print(authors_df)"
   ]
  },
  {
   "cell_type": "markdown",
   "id": "c280df90-ce86-4afc-8b33-758e2acca3cb",
   "metadata": {},
   "source": [
    "**-Tabla publishers**"
   ]
  },
  {
   "cell_type": "code",
   "execution_count": 7,
   "id": "c6c76ccc-62ae-4647-918b-6f62a8390043",
   "metadata": {},
   "outputs": [
    {
     "name": "stdout",
     "output_type": "stream",
     "text": [
      "   publisher_id                          publisher\n",
      "0             1                                Ace\n",
      "1             2                           Ace Book\n",
      "2             3                          Ace Books\n",
      "3             4                      Ace Hardcover\n",
      "4             5  Addison Wesley Publishing Company\n"
     ]
    }
   ],
   "source": [
    "query = \"SELECT * FROM publishers LIMIT 5;\"\n",
    "publishers_df = pd.read_sql(query, engine)\n",
    "print(publishers_df)"
   ]
  },
  {
   "cell_type": "markdown",
   "id": "0591994c-7d36-4621-ab58-6d733ea46155",
   "metadata": {},
   "source": [
    "**-Tabla reviews**"
   ]
  },
  {
   "cell_type": "code",
   "execution_count": 8,
   "id": "37df8952-8e99-4d3e-b260-661f41498dca",
   "metadata": {},
   "outputs": [
    {
     "name": "stdout",
     "output_type": "stream",
     "text": [
      "   review_id  book_id       username  \\\n",
      "0          1        1   brandtandrea   \n",
      "1          2        1     ryanfranco   \n",
      "2          3        2       lorichen   \n",
      "3          4        3  johnsonamanda   \n",
      "4          5        3    scotttamara   \n",
      "\n",
      "                                                text  \n",
      "0  Mention society tell send professor analysis. ...  \n",
      "1  Foot glass pretty audience hit themselves. Amo...  \n",
      "2  Listen treat keep worry. Miss husband tax but ...  \n",
      "3  Finally month interesting blue could nature cu...  \n",
      "4  Nation purpose heavy give wait song will. List...  \n"
     ]
    }
   ],
   "source": [
    "query = \"SELECT * FROM reviews LIMIT 5;\"\n",
    "reviews_df = pd.read_sql(query, engine)\n",
    "print(reviews_df)"
   ]
  },
  {
   "cell_type": "markdown",
   "id": "f7331062-f5d7-4b21-a6fe-4a29cd6dd195",
   "metadata": {},
   "source": [
    "**-Tabla ratings**"
   ]
  },
  {
   "cell_type": "code",
   "execution_count": 9,
   "id": "032d25e9-98f1-496b-a00e-7b95e7780e71",
   "metadata": {},
   "outputs": [
    {
     "name": "stdout",
     "output_type": "stream",
     "text": [
      "   rating_id  book_id       username  rating\n",
      "0          1        1     ryanfranco       4\n",
      "1          2        1  grantpatricia       2\n",
      "2          3        1   brandtandrea       5\n",
      "3          4        2       lorichen       3\n",
      "4          5        2    mariokeller       2\n"
     ]
    }
   ],
   "source": [
    "query = \"SELECT * FROM ratings LIMIT 5;\"\n",
    "ratings_df = pd.read_sql(query, engine)\n",
    "print(ratings_df)"
   ]
  },
  {
   "cell_type": "markdown",
   "id": "9b57441d-515c-441b-bee1-b6e17d3dabe5",
   "metadata": {},
   "source": [
    "**-Descripción de las tablas y relaciones**\n",
    "\n",
    "**Tabla books**\n",
    "\n",
    "Clave primaria (PK): book_id → Identifica de manera única cada libro.                                                                                   \n",
    "\n",
    "Claves foráneas (FK):                                                                                                                                   \n",
    "author_id → Relaciona los libros con la tabla authors para obtener información del autor o autora.                                                      \n",
    "publisher_id → Relaciona los libros con la tabla publishers para obtener información de la editorial.                                                   \n",
    "\n",
    "Relaciones:                                                                                                                                             \n",
    "Cada libro está asociado a un autor mediante author_id.                                                                                               \n",
    "Cada libro pertenece a una editorial mediante publisher_id.                                                                                             \n",
    "Esta tabla es clave para conectar con reviews y ratings a través de book_id.\n",
    "\n",
    "**Tabla authors**\n",
    "\n",
    "Clave primaria (PK): author_id → Identifica de manera única a cada autor o autora.\n",
    "\n",
    "Relación con otras tablas:\n",
    "Se conecta con la tabla books mediante author_id.\n",
    "\n",
    "Relaciones:\n",
    "Cada autor puede tener uno o varios libros en la tabla books.\n",
    "\n",
    "**Tabla publishers**\n",
    "\n",
    "Clave primaria (PK): publisher_id → Identifica de manera única a cada editorial.\n",
    "\n",
    "Relación con otras tablas:\n",
    "Se conecta con la tabla books mediante publisher_id.\n",
    "\n",
    "Relaciones:\n",
    "Cada editorial puede haber publicado uno o varios libros en la tabla books.\n",
    "\n",
    "**Tabla reviews**\n",
    "\n",
    "Clave primaria (PK): review_id → Identifica de manera única cada reseña.\n",
    "\n",
    "Claves foráneas (FK):\n",
    "book_id → Relaciona las reseñas con la tabla books.\n",
    "\n",
    "Otras columnas: username, text → Información adicional de la reseña.\n",
    "\n",
    "Relaciones:\n",
    "Cada reseña está asociada a un libro mediante book_id.\n",
    "Un libro puede tener una o varias reseñas.\n",
    "\n",
    "**Tabla ratings**\n",
    "\n",
    "Clave primaria (PK): rating_id → Identifica de manera única cada calificación.\n",
    "\n",
    "Claves foráneas (FK):\n",
    "book_id → Relaciona las calificaciones con la tabla books.\n",
    "\n",
    "Otras columnas: username, rating → Información sobre quién calificó y la calificación asignada.\n",
    "\n",
    "Relaciones:\n",
    "Cada calificación está asociada a un libro mediante book_id.\n",
    "Un libro puede tener una o varias calificaciones.\n",
    "\n",
    "\n"
   ]
  },
  {
   "cell_type": "markdown",
   "id": "261c9605-4e58-4a2a-b1a0-e1d38df7e449",
   "metadata": {},
   "source": [
    "# Consulta y análisis de datos"
   ]
  },
  {
   "cell_type": "markdown",
   "id": "1a0b44fb-a9c6-4df3-90ac-2a03a7831595",
   "metadata": {},
   "source": [
    "**-Etapa 1: Determinar la cantidad de libros publicados después del 1 de enero de 2000 mediante una consulta SQL.**"
   ]
  },
  {
   "cell_type": "code",
   "execution_count": 10,
   "id": "9b03e0f0-c151-4ee4-b10c-9f106857e2ed",
   "metadata": {},
   "outputs": [],
   "source": [
    "query_1 = '''\n",
    "SELECT COUNT(*) AS num_books_after_2000\n",
    "FROM books\n",
    "WHERE publication_date > '2000-01-01';\n",
    "'''"
   ]
  },
  {
   "cell_type": "code",
   "execution_count": 11,
   "id": "a4d0ec43-ba80-4c6f-bc43-b14b1310b7ea",
   "metadata": {},
   "outputs": [
    {
     "name": "stdout",
     "output_type": "stream",
     "text": [
      "   num_books_after_2000\n",
      "0                   819\n"
     ]
    }
   ],
   "source": [
    "result_1 = pd.io.sql.read_sql(query_1, con=engine)\n",
    "print(result_1)"
   ]
  },
  {
   "cell_type": "markdown",
   "id": "21ab3e10-4c1f-413c-b4d5-8028b79ca3e8",
   "metadata": {},
   "source": [
    "**-Etapa 2: Calcular el número de reseñas y la calificación promedio por libro uniendo las tablas ratings y reviews.**"
   ]
  },
  {
   "cell_type": "code",
   "execution_count": 12,
   "id": "c34c0fdd-3c08-460e-ab05-e483718f8a18",
   "metadata": {},
   "outputs": [],
   "source": [
    "query_2 = '''\n",
    "SELECT \n",
    "    b.book_id,\n",
    "    b.title,\n",
    "    COUNT(r.review_id) AS num_reviews,\n",
    "    AVG(rt.rating) AS avg_rating\n",
    "FROM books AS b\n",
    "LEFT JOIN reviews AS r ON b.book_id = r.book_id\n",
    "LEFT JOIN ratings AS rt ON b.book_id = rt.book_id\n",
    "GROUP BY b.book_id, b.title\n",
    "ORDER BY num_reviews DESC;\n",
    "'''"
   ]
  },
  {
   "cell_type": "code",
   "execution_count": 13,
   "id": "5fe00daf-db84-48e3-a653-ec2a7ffe8730",
   "metadata": {},
   "outputs": [
    {
     "name": "stdout",
     "output_type": "stream",
     "text": [
      "   book_id                                              title  num_reviews  \\\n",
      "0      948                            Twilight (Twilight  #1)         1120   \n",
      "1      750                The Hobbit  or There and Back Again          528   \n",
      "2      673                             The Catcher in the Rye          516   \n",
      "3      302  Harry Potter and the Prisoner of Azkaban (Harr...          492   \n",
      "4      299  Harry Potter and the Chamber of Secrets (Harry...          480   \n",
      "\n",
      "   avg_rating  \n",
      "0    3.662500  \n",
      "1    4.125000  \n",
      "2    3.825581  \n",
      "3    4.414634  \n",
      "4    4.287500  \n"
     ]
    }
   ],
   "source": [
    "result_2 = pd.io.sql.read_sql(query_2, con=engine)\n",
    "print(result_2.head())"
   ]
  },
  {
   "cell_type": "markdown",
   "id": "7107f1e5-0df7-4c78-8540-d32b1d632adb",
   "metadata": {},
   "source": [
    "**Etapa 3: Identificar la editorial con la mayor cantidad de libros con más de 50 páginas utilizando las tablas books y publishers.**"
   ]
  },
  {
   "cell_type": "code",
   "execution_count": 14,
   "id": "1a1f7393-ed26-4562-87f4-a0b4f1c6961d",
   "metadata": {},
   "outputs": [],
   "source": [
    "query_3 = '''\n",
    "SELECT \n",
    "    p.publisher,\n",
    "    COUNT(b.book_id) AS num_books\n",
    "FROM books AS b\n",
    "JOIN publishers AS p ON b.publisher_id = p.publisher_id\n",
    "WHERE b.num_pages > 50\n",
    "GROUP BY p.publisher\n",
    "ORDER BY num_books DESC\n",
    "LIMIT 1;\n",
    "'''"
   ]
  },
  {
   "cell_type": "code",
   "execution_count": 15,
   "id": "26ee6d9e-5cfa-4c27-8b7c-24cde7de158f",
   "metadata": {},
   "outputs": [
    {
     "name": "stdout",
     "output_type": "stream",
     "text": [
      "       publisher  num_books\n",
      "0  Penguin Books         42\n"
     ]
    }
   ],
   "source": [
    "result_3 = pd.io.sql.read_sql(query_3, con=engine)\n",
    "print(result_3)"
   ]
  },
  {
   "cell_type": "markdown",
   "id": "9596fde0-9824-414a-a29b-615bc16c86b4",
   "metadata": {},
   "source": [
    "**Etapa 4: Determinar el autor con la calificación promedio más alta considerando solo libros con al menos 50 calificaciones, a través de las tablas books, authors y ratings.**"
   ]
  },
  {
   "cell_type": "code",
   "execution_count": 16,
   "id": "28de1a67-54d9-4a3d-b259-0ed755f0e92b",
   "metadata": {},
   "outputs": [],
   "source": [
    "query_4 = '''\n",
    "SELECT \n",
    "    a.author,\n",
    "    AVG(rt.rating) AS avg_rating\n",
    "FROM authors AS a\n",
    "JOIN books AS b ON a.author_id = b.author_id\n",
    "JOIN ratings AS rt ON b.book_id = rt.book_id\n",
    "GROUP BY a.author\n",
    "HAVING COUNT(rt.rating_id) >= 50\n",
    "ORDER BY avg_rating DESC\n",
    "LIMIT 1;\n",
    "'''"
   ]
  },
  {
   "cell_type": "code",
   "execution_count": 17,
   "id": "046c15b3-4fa7-4d3b-8251-db234fa3c3cf",
   "metadata": {},
   "outputs": [
    {
     "name": "stdout",
     "output_type": "stream",
     "text": [
      "           author  avg_rating\n",
      "0  Diana Gabaldon         4.3\n"
     ]
    }
   ],
   "source": [
    "result_4 = pd.io.sql.read_sql(query_4, con=engine)\n",
    "print(result_4)"
   ]
  },
  {
   "cell_type": "markdown",
   "id": "76a4ae55-22b7-441f-a63b-30909fa96c19",
   "metadata": {},
   "source": [
    "**Etapa 5: Calcular el promedio de reseñas de texto generadas por usuarios que calificaron más de 50 libros, cruzando las tablas ratings y reviews.**"
   ]
  },
  {
   "cell_type": "code",
   "execution_count": 18,
   "id": "f88eaf95-6b90-4abd-99a7-ea50a9b8dd2f",
   "metadata": {},
   "outputs": [],
   "source": [
    "query_5 = '''\n",
    "WITH user_ratings_count AS (\n",
    "    SELECT \n",
    "        username,\n",
    "        COUNT(rating_id) AS num_ratings\n",
    "    FROM ratings\n",
    "    GROUP BY username\n",
    "    HAVING COUNT(rating_id) > 50\n",
    ")\n",
    "SELECT \n",
    "    AVG(review_count) AS avg_reviews\n",
    "FROM (\n",
    "    SELECT \n",
    "        urc.username,\n",
    "        COUNT(r.review_id) AS review_count\n",
    "    FROM user_ratings_count AS urc\n",
    "    LEFT JOIN reviews AS r ON urc.username = r.username\n",
    "    GROUP BY urc.username\n",
    ") AS subquery;\n",
    "'''"
   ]
  },
  {
   "cell_type": "code",
   "execution_count": 19,
   "id": "d20f4b9a-ef52-4c21-a7de-e1ac6fe3b741",
   "metadata": {},
   "outputs": [
    {
     "name": "stdout",
     "output_type": "stream",
     "text": [
      "   avg_reviews\n",
      "0    24.333333\n"
     ]
    }
   ],
   "source": [
    "result_5 = pd.io.sql.read_sql(query_5, con=engine)\n",
    "print(result_5)"
   ]
  },
  {
   "cell_type": "markdown",
   "id": "65f261e2-557f-4ea1-aedc-469906291b51",
   "metadata": {},
   "source": [
    "# Conclusiones y recomendaciones"
   ]
  },
  {
   "cell_type": "markdown",
   "id": "265ac374-05f8-4f92-9875-c1e617159632",
   "metadata": {},
   "source": [
    "**Conclusiones**\n",
    "\n",
    "**Etapa 1: Cantidad de libros publicados después del 1 de enero de 2000**\n",
    "Se identificaron 819 libros publicados después del 1 de enero de 2000. Esto demuestra una tendencia significativa de producción literaria en los últimos años, probablemente impulsada por la mayor disponibilidad de editoriales y tecnologías que facilitan la publicación.\n",
    "\n",
    "**Etapa 2: Número de reseñas y calificación promedio por libro**\n",
    "Libros como Twilight y Harry Potter and the Prisoner of Azkaban destacan con un alto número de reseñas (1120 y 492, respectivamente) y calificaciones promedio sobresalientes (3.66 y 4.41, respectivamente). Esto evidencia una fuerte correlación entre los libros más populares y la participación activa de los usuarios en reseñas y calificaciones.\n",
    "\n",
    "**Etapa 3: Editorial con mayor cantidad de libros con más de 50 páginas**\n",
    "La editorial Penguin Books lidera con 42 libros que tienen más de 50 páginas, mostrando su posición como una editorial prominente en la producción literaria de calidad. Esto refleja una fuerte presencia en el mercado editorial.\n",
    "\n",
    "**Etapa 4: Autor con la calificación promedio más alta**\n",
    "Diana Gabaldon obtuvo la calificación promedio más alta (4.3) considerando libros con al menos 50 calificaciones. Esto resalta su capacidad para conectar con los lectores y mantener un estándar elevado de calidad en su obra.\n",
    "\n",
    "**Etapa 5: Promedio de reseñas generadas por usuarios que calificaron más de 50 libros**\n",
    "Los usuarios que calificaron más de 50 libros generaron un promedio de 24.33 reseñas de texto, lo que indica un grupo altamente activo y comprometido dentro de la comunidad. Este segmento representa a lectores apasionados que tienen una influencia importante en la percepción de los libros.\n"
   ]
  },
  {
   "cell_type": "markdown",
   "id": "0ada6f2a-f64e-4e82-8d06-5a73b5c3649a",
   "metadata": {},
   "source": [
    "**Recomendaciones**\n",
    "\n",
    "**1.Fomentar la publicación de nuevos libros y géneros post-2000**\n",
    "\n",
    "Las tendencias de producción después del año 2000 sugieren un mercado vibrante para nuevos lanzamientos. Las editoriales pueden enfocarse en explorar géneros populares (fantasía, ficción contemporánea, etc.) y trabajar con autores emergentes para satisfacer las demandas del mercado.\n",
    "\n",
    "**2.Promover libros con alta participación de usuarios**\n",
    "\n",
    "Libros como Twilight y la saga Harry Potter demuestran que la popularidad impulsa la interacción de los usuarios. Las plataformas de venta y promoción de libros podrían destacar títulos con calificaciones sobresalientes y numerosas reseñas para aumentar la visibilidad y las ventas.\n",
    "\n",
    "**3.Fortalecer alianzas con editoriales líderes**\n",
    "\n",
    "Dado que Penguin Books lidera en la producción de libros con más de 50 páginas, se recomienda fortalecer alianzas estratégicas con esta editorial y otras similares para maximizar la oferta de contenido atractivo.\n",
    "\n",
    "**4.Promocionar autores con alto reconocimiento entre los lectores**\n",
    "\n",
    "Autores como Diana Gabaldon, que cuentan con calificaciones promedio altas, pueden ser promocionados mediante campañas de marketing personalizadas, eventos de firma de libros o colaboraciones con plataformas digitales de lectura.\n",
    "\n",
    "**5.Aprovechar la influencia de usuarios altamente activos**\n",
    "\n",
    "Los usuarios que califican y reseñan muchos libros son embajadores clave de las plataformas de libros. Se recomienda implementar programas de fidelización, como descuentos, acceso anticipado a lanzamientos o invitaciones a eventos, para fomentar aún más su participación.\n",
    "\n",
    "**6.Optimizar los servicios para comunidades lectoras**\n",
    "\n",
    "Basándose en los comportamientos de los usuarios y las tendencias identificadas, plataformas dirigidas a amantes de los libros pueden ofrecer recomendaciones personalizadas, foros de discusión o funciones que promuevan la interacción social entre lectores."
   ]
  }
 ],
 "metadata": {
  "kernelspec": {
   "display_name": "Python 3 (ipykernel)",
   "language": "python",
   "name": "python3"
  },
  "language_info": {
   "codemirror_mode": {
    "name": "ipython",
    "version": 3
   },
   "file_extension": ".py",
   "mimetype": "text/x-python",
   "name": "python",
   "nbconvert_exporter": "python",
   "pygments_lexer": "ipython3",
   "version": "3.12.4"
  }
 },
 "nbformat": 4,
 "nbformat_minor": 5
}
